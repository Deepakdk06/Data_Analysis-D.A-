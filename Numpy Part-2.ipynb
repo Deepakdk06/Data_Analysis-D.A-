{
 "cells": [
  {
   "cell_type": "code",
   "execution_count": 1,
   "id": "29de3f53",
   "metadata": {},
   "outputs": [],
   "source": [
    "import numpy as np"
   ]
  },
  {
   "cell_type": "code",
   "execution_count": 4,
   "id": "1cfd8a20",
   "metadata": {},
   "outputs": [
    {
     "data": {
      "text/plain": [
       "array([4, 5, 8, 2, 9])"
      ]
     },
     "execution_count": 4,
     "metadata": {},
     "output_type": "execute_result"
    }
   ],
   "source": [
    "arr=np.array([4,5,8,2,9])\n",
    "arr"
   ]
  },
  {
   "cell_type": "code",
   "execution_count": 5,
   "id": "4db99de6",
   "metadata": {},
   "outputs": [
    {
     "data": {
      "text/plain": [
       "1"
      ]
     },
     "execution_count": 5,
     "metadata": {},
     "output_type": "execute_result"
    }
   ],
   "source": [
    "arr.ndim  #(ndim) used to check the dimensional of aaray"
   ]
  },
  {
   "cell_type": "code",
   "execution_count": 30,
   "id": "965655f6",
   "metadata": {},
   "outputs": [
    {
     "data": {
      "text/plain": [
       "array([[4, 5, 8, 2, 9]])"
      ]
     },
     "execution_count": 30,
     "metadata": {},
     "output_type": "execute_result"
    }
   ],
   "source": [
    "arr=np.array([[4,5,8,2,9]])\n",
    "arr"
   ]
  },
  {
   "cell_type": "code",
   "execution_count": 7,
   "id": "3bee1f90",
   "metadata": {},
   "outputs": [
    {
     "data": {
      "text/plain": [
       "2"
      ]
     },
     "execution_count": 7,
     "metadata": {},
     "output_type": "execute_result"
    }
   ],
   "source": [
    "arr.ndim"
   ]
  },
  {
   "cell_type": "markdown",
   "id": "bc697a94",
   "metadata": {},
   "source": [
    "# ndmin"
   ]
  },
  {
   "cell_type": "markdown",
   "id": "b37d76c5",
   "metadata": {},
   "source": [
    "it is used to convert the array dinmension from 1D to 2D and 3D "
   ]
  },
  {
   "cell_type": "code",
   "execution_count": 74,
   "id": "ca48a9a5",
   "metadata": {},
   "outputs": [
    {
     "data": {
      "text/plain": [
       "[10, 50, 14, 86]"
      ]
     },
     "execution_count": 74,
     "metadata": {},
     "output_type": "execute_result"
    }
   ],
   "source": [
    "ar=([10,50,14,86])\n",
    "ar"
   ]
  },
  {
   "cell_type": "code",
   "execution_count": 75,
   "id": "3e11e373",
   "metadata": {},
   "outputs": [
    {
     "data": {
      "text/plain": [
       "array([[10, 50, 14, 86]])"
      ]
     },
     "execution_count": 75,
     "metadata": {},
     "output_type": "execute_result"
    }
   ],
   "source": [
    "ar=np.array([10,50,14,86],ndmin=2)\n",
    "ar"
   ]
  },
  {
   "cell_type": "code",
   "execution_count": null,
   "id": "d82aa5b2",
   "metadata": {},
   "outputs": [],
   "source": []
  },
  {
   "cell_type": "code",
   "execution_count": null,
   "id": "c5f0e13f",
   "metadata": {},
   "outputs": [],
   "source": []
  },
  {
   "cell_type": "code",
   "execution_count": 5,
   "id": "88e12eb4",
   "metadata": {},
   "outputs": [
    {
     "name": "stderr",
     "output_type": "stream",
     "text": [
      "<ipython-input-5-307db2830d5e>:1: VisibleDeprecationWarning: Creating an ndarray from ragged nested sequences (which is a list-or-tuple of lists-or-tuples-or ndarrays with different lengths or shapes) is deprecated. If you meant to do this, you must specify 'dtype=object' when creating the ndarray.\n",
      "  ar=np.array([[4,5,8,9],[3,7,6,2,1]])\n"
     ]
    },
    {
     "data": {
      "text/plain": [
       "array([list([4, 5, 8, 9]), list([3, 7, 6, 2, 1])], dtype=object)"
      ]
     },
     "execution_count": 5,
     "metadata": {},
     "output_type": "execute_result"
    }
   ],
   "source": [
    "ar=np.array([[4,5,8,9],[3,7,6,2,1]])\n",
    "ar"
   ]
  },
  {
   "cell_type": "code",
   "execution_count": 9,
   "id": "31ce7a8c",
   "metadata": {},
   "outputs": [
    {
     "data": {
      "text/plain": [
       "1"
      ]
     },
     "execution_count": 9,
     "metadata": {},
     "output_type": "execute_result"
    }
   ],
   "source": [
    "a.ndim  # if values will be eqaul in both list then it will 2D array else 1D"
   ]
  },
  {
   "cell_type": "markdown",
   "id": "3167ecd1",
   "metadata": {},
   "source": [
    "# 3 Dimenstional"
   ]
  },
  {
   "cell_type": "code",
   "execution_count": 6,
   "id": "981629c0",
   "metadata": {},
   "outputs": [
    {
     "data": {
      "text/plain": [
       "array([[[4, 6, 2],\n",
       "        [3, 5, 8],\n",
       "        [8, 3, 7]]])"
      ]
     },
     "execution_count": 6,
     "metadata": {},
     "output_type": "execute_result"
    }
   ],
   "source": [
    "ar=np.array([[[4,6,2],[3,5,8],[8,3,7]]])\n",
    "ar"
   ]
  },
  {
   "cell_type": "code",
   "execution_count": 4,
   "id": "afa0e9be",
   "metadata": {},
   "outputs": [
    {
     "data": {
      "text/plain": [
       "array([[15, 14, 17]])"
      ]
     },
     "execution_count": 4,
     "metadata": {},
     "output_type": "execute_result"
    }
   ],
   "source": [
    "ar.sum(axis=1) #axis=1 used to add row wise data in 3D"
   ]
  },
  {
   "cell_type": "code",
   "execution_count": 5,
   "id": "91cb0118",
   "metadata": {},
   "outputs": [
    {
     "data": {
      "text/plain": [
       "array([[12, 16, 18]])"
      ]
     },
     "execution_count": 5,
     "metadata": {},
     "output_type": "execute_result"
    }
   ],
   "source": [
    "ar.sum(axis=2)  #axis=2 used to add colunm wise data in 3D"
   ]
  },
  {
   "cell_type": "code",
   "execution_count": null,
   "id": "e8b1c185",
   "metadata": {},
   "outputs": [],
   "source": []
  },
  {
   "cell_type": "markdown",
   "id": "c6ef5161",
   "metadata": {},
   "source": [
    "# 2 Dimentional"
   ]
  },
  {
   "cell_type": "code",
   "execution_count": 22,
   "id": "9b31be88",
   "metadata": {},
   "outputs": [
    {
     "data": {
      "text/plain": [
       "array([[4, 6, 2],\n",
       "       [3, 5, 8],\n",
       "       [8, 3, 7]])"
      ]
     },
     "execution_count": 22,
     "metadata": {},
     "output_type": "execute_result"
    }
   ],
   "source": [
    "ar=np.array([[4,6,2],[3,5,8],[8,3,7]])\n",
    "ar"
   ]
  },
  {
   "cell_type": "code",
   "execution_count": 25,
   "id": "37311c53",
   "metadata": {},
   "outputs": [
    {
     "data": {
      "text/plain": [
       "array([15, 14, 17])"
      ]
     },
     "execution_count": 25,
     "metadata": {},
     "output_type": "execute_result"
    }
   ],
   "source": [
    "ar.sum(axis=0)  #axis=0 used to add row wise data in 2D"
   ]
  },
  {
   "cell_type": "code",
   "execution_count": 24,
   "id": "106dc36c",
   "metadata": {},
   "outputs": [
    {
     "data": {
      "text/plain": [
       "array([12, 16, 18])"
      ]
     },
     "execution_count": 24,
     "metadata": {},
     "output_type": "execute_result"
    }
   ],
   "source": [
    "ar.sum(axis=1)   #axis=1 used to add row wise data in 2D"
   ]
  },
  {
   "cell_type": "markdown",
   "id": "5138272e",
   "metadata": {},
   "source": [
    "Adding two normal list"
   ]
  },
  {
   "cell_type": "code",
   "execution_count": 33,
   "id": "a03919c7",
   "metadata": {},
   "outputs": [
    {
     "data": {
      "text/plain": [
       "[4, 2, 5, 3, 5, 8]"
      ]
     },
     "execution_count": 33,
     "metadata": {},
     "output_type": "execute_result"
    }
   ],
   "source": [
    "x=[4,2,5]\n",
    "y=[3,5,8]\n",
    "x+y"
   ]
  },
  {
   "cell_type": "markdown",
   "id": "a4ffeabd",
   "metadata": {},
   "source": [
    "Adding numpy array list"
   ]
  },
  {
   "cell_type": "code",
   "execution_count": 35,
   "id": "58430499",
   "metadata": {},
   "outputs": [
    {
     "data": {
      "text/plain": [
       "array([[11, 18, 13, 20],\n",
       "       [10, 14, 14, 14]])"
      ]
     },
     "execution_count": 35,
     "metadata": {},
     "output_type": "execute_result"
    }
   ],
   "source": [
    "a=np.array([[5,10,4,9],[6,7,9,8]])\n",
    "b=np.array([[6,8,9,11],[4,7,5,6]])\n",
    "a+b"
   ]
  },
  {
   "cell_type": "code",
   "execution_count": 36,
   "id": "df0d2a2c",
   "metadata": {},
   "outputs": [
    {
     "data": {
      "text/plain": [
       "array([[-1,  2, -5, -2],\n",
       "       [ 2,  0,  4,  2]])"
      ]
     },
     "execution_count": 36,
     "metadata": {},
     "output_type": "execute_result"
    }
   ],
   "source": [
    "a-b  #subtract"
   ]
  },
  {
   "cell_type": "code",
   "execution_count": 37,
   "id": "8dbd0f75",
   "metadata": {},
   "outputs": [
    {
     "data": {
      "text/plain": [
       "array([[30, 80, 36, 99],\n",
       "       [24, 49, 45, 48]])"
      ]
     },
     "execution_count": 37,
     "metadata": {},
     "output_type": "execute_result"
    }
   ],
   "source": [
    "a*b #multiply"
   ]
  },
  {
   "cell_type": "code",
   "execution_count": 38,
   "id": "1db7e4e6",
   "metadata": {},
   "outputs": [
    {
     "data": {
      "text/plain": [
       "array([[0.83333333, 1.25      , 0.44444444, 0.81818182],\n",
       "       [1.5       , 1.        , 1.8       , 1.33333333]])"
      ]
     },
     "execution_count": 38,
     "metadata": {},
     "output_type": "execute_result"
    }
   ],
   "source": [
    "a/b # divide"
   ]
  },
  {
   "cell_type": "markdown",
   "id": "c75ddd73",
   "metadata": {},
   "source": [
    "How to transpose a matrix"
   ]
  },
  {
   "cell_type": "code",
   "execution_count": 40,
   "id": "85796eba",
   "metadata": {},
   "outputs": [
    {
     "data": {
      "text/plain": [
       "array([[ 5, 10,  4,  9],\n",
       "       [ 6,  7,  9,  8]])"
      ]
     },
     "execution_count": 40,
     "metadata": {},
     "output_type": "execute_result"
    }
   ],
   "source": [
    "a=np.array([[5,10,4,9],[6,7,9,8]])\n",
    "a"
   ]
  },
  {
   "cell_type": "code",
   "execution_count": 41,
   "id": "9a6cec76",
   "metadata": {},
   "outputs": [
    {
     "data": {
      "text/plain": [
       "array([[ 5,  6],\n",
       "       [10,  7],\n",
       "       [ 4,  9],\n",
       "       [ 9,  8]])"
      ]
     },
     "execution_count": 41,
     "metadata": {},
     "output_type": "execute_result"
    }
   ],
   "source": [
    "a.T #colunm to rwo"
   ]
  },
  {
   "cell_type": "markdown",
   "id": "e7cfe6dc",
   "metadata": {},
   "source": [
    "# Searching (use of where as condition)"
   ]
  },
  {
   "cell_type": "code",
   "execution_count": 6,
   "id": "e1f2818b",
   "metadata": {},
   "outputs": [],
   "source": [
    "z=np.array([10,45,9,11,98,102,33,58,74,100])\n",
    "arr=np.where(z%2==0)"
   ]
  },
  {
   "cell_type": "code",
   "execution_count": 7,
   "id": "7f093ae2",
   "metadata": {},
   "outputs": [
    {
     "data": {
      "text/plain": [
       "(array([0, 4, 5, 7, 8, 9], dtype=int64),)"
      ]
     },
     "execution_count": 7,
     "metadata": {},
     "output_type": "execute_result"
    }
   ],
   "source": [
    "arr #index wise output"
   ]
  },
  {
   "cell_type": "code",
   "execution_count": 45,
   "id": "62163c01",
   "metadata": {},
   "outputs": [
    {
     "data": {
      "text/plain": [
       "(array([4, 5, 7, 8, 9], dtype=int64),)"
      ]
     },
     "execution_count": 45,
     "metadata": {},
     "output_type": "execute_result"
    }
   ],
   "source": [
    "arr=np.where(z>=58)\n",
    "arr"
   ]
  },
  {
   "cell_type": "code",
   "execution_count": 47,
   "id": "6df39329",
   "metadata": {},
   "outputs": [
    {
     "data": {
      "text/plain": [
       "(array([1, 2, 3, 6], dtype=int64),)"
      ]
     },
     "execution_count": 47,
     "metadata": {},
     "output_type": "execute_result"
    }
   ],
   "source": [
    "arr=np.where(z%2!=0)\n",
    "arr"
   ]
  },
  {
   "cell_type": "markdown",
   "id": "8443f0ca",
   "metadata": {},
   "source": [
    "# Sort"
   ]
  },
  {
   "cell_type": "code",
   "execution_count": 49,
   "id": "803d7ea6",
   "metadata": {},
   "outputs": [
    {
     "data": {
      "text/plain": [
       "array([  9,  10,  11,  33,  45,  58,  74,  98, 100, 102])"
      ]
     },
     "execution_count": 49,
     "metadata": {},
     "output_type": "execute_result"
    }
   ],
   "source": [
    "a=np.array([10,45,9,11,98,102,33,58,74,100])\n",
    "a.sort()\n",
    "a"
   ]
  },
  {
   "cell_type": "code",
   "execution_count": 51,
   "id": "472785e5",
   "metadata": {},
   "outputs": [],
   "source": [
    "arr=np.array([[100,105,245],[95,201,400],[800,700,560]])"
   ]
  },
  {
   "cell_type": "code",
   "execution_count": 52,
   "id": "ca99f640",
   "metadata": {},
   "outputs": [
    {
     "data": {
      "text/plain": [
       "95"
      ]
     },
     "execution_count": 52,
     "metadata": {},
     "output_type": "execute_result"
    }
   ],
   "source": [
    "arr.min()"
   ]
  },
  {
   "cell_type": "code",
   "execution_count": 53,
   "id": "ac8d2e9c",
   "metadata": {},
   "outputs": [
    {
     "data": {
      "text/plain": [
       "800"
      ]
     },
     "execution_count": 53,
     "metadata": {},
     "output_type": "execute_result"
    }
   ],
   "source": [
    "arr.max()"
   ]
  },
  {
   "cell_type": "code",
   "execution_count": 54,
   "id": "8c27cf80",
   "metadata": {},
   "outputs": [
    {
     "data": {
      "text/plain": [
       "356.22222222222223"
      ]
     },
     "execution_count": 54,
     "metadata": {},
     "output_type": "execute_result"
    }
   ],
   "source": [
    "arr.mean()"
   ]
  },
  {
   "cell_type": "markdown",
   "id": "c580601d",
   "metadata": {},
   "source": [
    "# arg"
   ]
  },
  {
   "cell_type": "markdown",
   "id": "dd0378e5",
   "metadata": {},
   "source": [
    "it works index wise"
   ]
  },
  {
   "cell_type": "code",
   "execution_count": 65,
   "id": "af7ce630",
   "metadata": {},
   "outputs": [
    {
     "data": {
      "text/plain": [
       "array([[ 10, 105, 245],\n",
       "       [ 95, 201, 400],\n",
       "       [800, 700, 900]])"
      ]
     },
     "execution_count": 65,
     "metadata": {},
     "output_type": "execute_result"
    }
   ],
   "source": [
    "arr=np.array([[10,105,245],[95,201,400],[800,700,900]])\n",
    "arr"
   ]
  },
  {
   "cell_type": "code",
   "execution_count": 66,
   "id": "ac48bddf",
   "metadata": {},
   "outputs": [
    {
     "data": {
      "text/plain": [
       "0"
      ]
     },
     "execution_count": 66,
     "metadata": {},
     "output_type": "execute_result"
    }
   ],
   "source": [
    "arr.argmin()"
   ]
  },
  {
   "cell_type": "code",
   "execution_count": 67,
   "id": "99e827d8",
   "metadata": {},
   "outputs": [
    {
     "data": {
      "text/plain": [
       "8"
      ]
     },
     "execution_count": 67,
     "metadata": {},
     "output_type": "execute_result"
    }
   ],
   "source": [
    "arr.argmax()"
   ]
  },
  {
   "cell_type": "code",
   "execution_count": 68,
   "id": "013b6dbf",
   "metadata": {},
   "outputs": [
    {
     "data": {
      "text/plain": [
       "array([[0, 1, 2],\n",
       "       [0, 1, 2],\n",
       "       [1, 0, 2]], dtype=int64)"
      ]
     },
     "execution_count": 68,
     "metadata": {},
     "output_type": "execute_result"
    }
   ],
   "source": [
    "arr.argsort()"
   ]
  },
  {
   "cell_type": "code",
   "execution_count": null,
   "id": "f19277c3",
   "metadata": {},
   "outputs": [],
   "source": []
  }
 ],
 "metadata": {
  "kernelspec": {
   "display_name": "Python 3",
   "language": "python",
   "name": "python3"
  },
  "language_info": {
   "codemirror_mode": {
    "name": "ipython",
    "version": 3
   },
   "file_extension": ".py",
   "mimetype": "text/x-python",
   "name": "python",
   "nbconvert_exporter": "python",
   "pygments_lexer": "ipython3",
   "version": "3.8.8"
  }
 },
 "nbformat": 4,
 "nbformat_minor": 5
}
